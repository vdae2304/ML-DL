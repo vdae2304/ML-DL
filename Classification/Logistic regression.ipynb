{
 "cells": [
  {
   "attachments": {},
   "cell_type": "markdown",
   "metadata": {},
   "source": [
    "# Logistic regression"
   ]
  },
  {
   "attachments": {},
   "cell_type": "markdown",
   "metadata": {},
   "source": [
    "## Introduction\n",
    "\n",
    "Let $Y$ be a **dependent variable**, also called **response variable** or **predictor**, whose behaviour can be explained by the **independent variables** $X_1, X_2, \\ldots, X_k$, also known as **explanatory variables** or **features**.\n",
    "\n",
    "In classification, $Y$ is a binary variable belonging to either one of two classes, labeled as 0 or 1, although generalizations where $Y$ takes any (finite) number of outcomes exists.\n",
    "\n",
    "Let $p = P(Y = 1)$, be the probability of $Y$ to belong to class 1. In logistic regression, the probability $p$ can be described as follows:\n",
    "$$p = \\frac{1}{1 + \\exp(-(\\beta_0 + \\beta_1 X_1 + \\ldots + \\beta_k X_k))}$$\n",
    "where $\\beta_0, \\beta_1, \\ldots, \\beta_k$ are the model parameters and $\\exp$ denotes the exponential function. The **log odds** of the dependent variable are defined as\n",
    "$$\\log\\frac{p}{1 - p} = \\beta_0 + \\beta_1 X_1 + \\ldots + \\beta_k X_k$$"
   ]
  },
  {
   "attachments": {},
   "cell_type": "markdown",
   "metadata": {},
   "source": [
    "## The logistic function\n",
    "\n",
    "The function\n",
    "$$\\sigma(t) = \\frac{1}{1 + e^{-t}}$$\n",
    "is known as the **logistic function** (and thus the name of logistic regression), and its inverse\n",
    "$$\\sigma^{-1}(p) = \\log\\frac{p}{1 - p}, \\ 0 < p < 1$$\n",
    "is known as the **logit function**.\n",
    "\n",
    "To illustrate the model, lets sample a few points and plot both the sampled points and the logistic function."
   ]
  },
  {
   "cell_type": "code",
   "execution_count": 1,
   "metadata": {},
   "outputs": [
    {
     "data": {
      "image/png": "[encoded data removed]",
      "text/plain": [
       "<Figure size 640x480 with 1 Axes>"
      ]
     },
     "metadata": {},
     "output_type": "display_data"
    }
   ],
   "source": [
    "import numpy as np\n",
    "import matplotlib.pyplot as plt\n",
    "\n",
    "rng = np.random.default_rng(seed=1000)\n",
    "beta = [-5, 1]\n",
    "x = np.linspace(0, 10)\n",
    "p = 1/(1 + np.exp(-(beta[0] + beta[1]*x)))\n",
    "y = rng.binomial(1, p, size=x.shape)\n",
    "\n",
    "plt.figure()\n",
    "plt.title(\"Logistic regression\")\n",
    "plt.xlabel(\"x\")\n",
    "plt.ylabel(\"p\")\n",
    "plt.plot(x, y, \"o\")\n",
    "plt.plot(x, p, \"r-\")\n",
    "plt.grid()\n",
    "plt.show()"
   ]
  },
  {
   "attachments": {},
   "cell_type": "markdown",
   "metadata": {},
   "source": [
    "## Estimation\n",
    "\n",
    "Let\n",
    "* $\\mathbf{y} = (y_1, \\ldots, y_n)$ be the vector of observed dependent variables,\n",
    "* $\\mathbf{\\beta} = (\\beta_0, \\beta_1, \\ldots, \\beta_k)$ be the vector of model parameters, and\n",
    "* $\\mathbf{X} = (x_{ij})$ be the matrix of observed independent variables, where each row $\\mathbf{x}_i = (1, x_{i1}, \\ldots, x_{ik})$ represents an observation and each column represents a feature. The first column of $\\mathbf{X}$ is filled with ones and is the column corresponding to the intercept $\\beta_0$.\n",
    "\n",
    "Additionally, let\n",
    "* $\\mathbf{\\mu}$ denote the vector whose $i$-th entry is $\\mu_i = \\frac{1}{1 + \\exp(-\\mathbf{x}_i^{\\top}\\mathbf{\\beta})}$, and\n",
    "* $W$ denote the diagonal matrix whose $i$-th diagonal entry is $w_{ii} = \\left(\\frac{1}{1 + \\exp(-\\mathbf{x}_i^{\\top}\\mathbf{\\beta})}\\right)\\left(1 - \\frac{1}{1 + \\exp(-\\mathbf{x}_i^{\\top}\\mathbf{\\beta})}\\right)$. \n",
    "\n",
    "The model parameters $\\mathbf{\\beta}$ can be estimated by applying the following iterative method:\n",
    "1. Begin with an initial guess $\\mathbf{\\beta}^{(0)}$.\n",
    "2. At each iteration:\n",
    "    - Solve $\\mathbf{X}^{\\top}\\mathbf{WX\\gamma} = \\mathbf{X}^{\\top}(\\mathbf{y} - \\mathbf{\\mu})$ for $\\mathbf{\\gamma}$.\n",
    "    - Set $\\mathbf{\\beta}^{(t + 1)} = \\mathbf{\\beta}^{(t)} + \\mathbf{\\gamma}$.\n",
    "\n",
    "The method ends once the parameters stop changing, i.e. when $\\mathbf{\\beta}^{(t + 1)}$ is virtually the same as $\\mathbf{\\beta}^{(t)}$, or when a maximum number of iterations have been reached.\n",
    "\n",
    "See [Maximum likelihood estimator](#maximum-likelihood-estimator) for the deduction of this method."
   ]
  },
  {
   "cell_type": "code",
   "execution_count": 2,
   "metadata": {},
   "outputs": [
    {
     "name": "stdout",
     "output_type": "stream",
     "text": [
      "Matrix of observed independent variables:\n",
      "[[ 1.    0.  ]\n",
      " [ 1.    0.2 ]\n",
      " [ 1.    0.41]\n",
      " ...\n",
      " [ 1.    9.59]\n",
      " [ 1.    9.8 ]\n",
      " [ 1.   10.  ]]\n",
      "Vector of observed dependent variables:\n",
      "[0 0 0 ... 1 1 1]\n",
      "Method converged in 6 iterations\n",
      "Estimator:\n",
      "[-5.70921579  1.30169546]\n"
     ]
    }
   ],
   "source": [
    "from numpy.linalg import solve, norm\n",
    "\n",
    "X = np.column_stack((np.ones(x.shape), x))\n",
    "with np.printoptions(precision=2, threshold=10, edgeitems=3):\n",
    "    print(\"Matrix of observed independent variables:\")\n",
    "    print(X)\n",
    "    print(\"Vector of observed dependent variables:\")\n",
    "    print(y)\n",
    "\n",
    "beta_mle = [0, 0]\n",
    "max_iter = 100\n",
    "tol = 1e-4\n",
    "for iter in range(max_iter):\n",
    "    mu = 1/(1 + np.exp(-X @ beta_mle))\n",
    "    W = np.diag(mu*(1 - mu))\n",
    "    beta_incr = solve(X.T @ W @ X, X.T @ (y - mu))\n",
    "    if norm(beta_incr) < tol:\n",
    "        break\n",
    "    beta_mle = beta_mle + beta_incr\n",
    "\n",
    "print(\"Method converged in\", iter, \"iterations\")\n",
    "print(\"Estimator:\")\n",
    "print(beta_mle)"
   ]
  },
  {
   "cell_type": "code",
   "execution_count": 3,
   "metadata": {},
   "outputs": [
    {
     "data": {
      "image/png": "[encoded data removed]",
      "text/plain": [
       "<Figure size 640x480 with 1 Axes>"
      ]
     },
     "metadata": {},
     "output_type": "display_data"
    }
   ],
   "source": [
    "plt.figure()\n",
    "plt.title(\"Maximum likelihood estimator\")\n",
    "plt.xlabel(\"x\")\n",
    "plt.ylabel(\"p\")\n",
    "plt.plot(x, y, \"o\")\n",
    "plt.plot(x, 1/(1 + np.exp(-(beta[0] + beta[1]*x))), \"r-\",\n",
    "         label=\"Real probabilities\")\n",
    "plt.plot(x, 1/(1 + np.exp(-(beta_mle[0] + beta_mle[1]*x))), \"k-\",\n",
    "         label=\"Fitted probabilities\")\n",
    "plt.legend()\n",
    "plt.grid()\n",
    "plt.show()"
   ]
  },
  {
   "attachments": {},
   "cell_type": "markdown",
   "metadata": {},
   "source": [
    "### Senility and WAIS\n",
    "\n",
    "A sample of elderly people was given a psychiatric examination to determine whether symptoms of senility were present. Other measurements taken at the same time included the score on a subset of the Wechsler Adult Intelligent Scale (WAIS). The data are shown in the following table. The table contains the following variables:\n",
    "\n",
    "- *score* The WAIS scores.\n",
    "- *senile* Symptoms of senility, 1 if symptoms are present and 0 otherwise.\n",
    "\n",
    "Can the probability of presenting symptoms of senility be predicted from the WAIS scores?"
   ]
  },
  {
   "cell_type": "code",
   "execution_count": 4,
   "metadata": {},
   "outputs": [
    {
     "data": {
      "text/html": [
       "<div>\n",
       "<style scoped>\n",
       "    .dataframe tbody tr th:only-of-type {\n",
       "        vertical-align: middle;\n",
       "    }\n",
       "\n",
       "    .dataframe tbody tr th {\n",
       "        vertical-align: top;\n",
       "    }\n",
       "\n",
       "    .dataframe thead th {\n",
       "        text-align: right;\n",
       "    }\n",
       "</style>\n",
       "<table border=\"1\" class=\"dataframe\">\n",
       "  <thead>\n",
       "    <tr style=\"text-align: right;\">\n",
       "      <th></th>\n",
       "      <th>score</th>\n",
       "      <th>senile</th>\n",
       "    </tr>\n",
       "  </thead>\n",
       "  <tbody>\n",
       "    <tr>\n",
       "      <th>0</th>\n",
       "      <td>9</td>\n",
       "      <td>1</td>\n",
       "    </tr>\n",
       "    <tr>\n",
       "      <th>1</th>\n",
       "      <td>13</td>\n",
       "      <td>1</td>\n",
       "    </tr>\n",
       "    <tr>\n",
       "      <th>2</th>\n",
       "      <td>6</td>\n",
       "      <td>1</td>\n",
       "    </tr>\n",
       "    <tr>\n",
       "      <th>3</th>\n",
       "      <td>8</td>\n",
       "      <td>1</td>\n",
       "    </tr>\n",
       "    <tr>\n",
       "      <th>4</th>\n",
       "      <td>10</td>\n",
       "      <td>1</td>\n",
       "    </tr>\n",
       "  </tbody>\n",
       "</table>\n",
       "</div>"
      ],
      "text/plain": [
       "   score  senile\n",
       "0      9       1\n",
       "1     13       1\n",
       "2      6       1\n",
       "3      8       1\n",
       "4     10       1"
      ]
     },
     "execution_count": 4,
     "metadata": {},
     "output_type": "execute_result"
    }
   ],
   "source": [
    "import pandas as pd\n",
    "\n",
    "df_wais = pd.read_csv(\"data/wais-scores.csv\")\n",
    "df_wais.head()"
   ]
  },
  {
   "cell_type": "code",
   "execution_count": 5,
   "metadata": {},
   "outputs": [
    {
     "name": "stdout",
     "output_type": "stream",
     "text": [
      "Method converged in 4 iterations\n",
      "Estimator:\n",
      "[ 2.40400719 -0.32352604]\n"
     ]
    }
   ],
   "source": [
    "n, _ = df_wais.shape\n",
    "X = np.column_stack((np.ones(n), df_wais.score))\n",
    "y = df_wais.senile\n",
    "\n",
    "beta_mle = [0, 0]\n",
    "max_iter = 100\n",
    "tol = 1e-4\n",
    "for iter in range(max_iter):\n",
    "    mu = 1/(1 + np.exp(-X @ beta_mle))\n",
    "    W = np.diag(mu*(1 - mu))\n",
    "    beta_incr = solve(X.T @ W @ X, X.T @ (y - mu))\n",
    "    if norm(beta_incr) < tol:\n",
    "        break\n",
    "    beta_mle = beta_mle + beta_incr\n",
    "\n",
    "print(\"Method converged in\", iter, \"iterations\")\n",
    "print(\"Estimator:\")\n",
    "print(beta_mle)"
   ]
  },
  {
   "attachments": {},
   "cell_type": "markdown",
   "metadata": {},
   "source": [
    "The maximum likelihood estimator for $\\beta_0$ and $\\beta_1$ are 2.40 and -0.32, respectively. This means that the log odds start at 2.40 and decreases in a rate of 0.32 units per score."
   ]
  },
  {
   "cell_type": "code",
   "execution_count": 6,
   "metadata": {},
   "outputs": [
    {
     "data": {
      "image/png": "[encoded data removed]",
      "text/plain": [
       "<Figure size 640x480 with 1 Axes>"
      ]
     },
     "metadata": {},
     "output_type": "display_data"
    }
   ],
   "source": [
    "df_wais.sort_values(by=\"score\", inplace=True)\n",
    "\n",
    "df_wais[\"proportion\"] = df_wais.groupby(by=\"score\").senile.transform(np.mean)\n",
    "df_wais[\"log_odds\"] = beta_mle[0] + beta_mle[1]*df_wais.score\n",
    "df_wais[\"fitted_prob\"] = 1/(1 + np.exp(-df_wais.log_odds))\n",
    "\n",
    "plt.figure()\n",
    "plt.title(\"Senility and WAIS\")\n",
    "plt.xlabel(\"WAIS score\")\n",
    "plt.ylabel(\"Proportion with symptoms\")\n",
    "plt.plot(\"score\", \"proportion\", \"o\", data=df_wais)\n",
    "plt.plot(\"score\", \"fitted_prob\", \"r-\", data=df_wais)\n",
    "plt.grid()\n",
    "plt.show()"
   ]
  },
  {
   "attachments": {},
   "cell_type": "markdown",
   "metadata": {},
   "source": [
    "The previous plot compares the fitted probabilities against the proportion of people who presented symptoms of senility grouped by WAIS score. We can tell from the plot that the probability of presenting symptoms decreases as the scores increases. \n",
    "\n",
    "It is important to mention that the model only predicts the probability of presenting symptoms, it doesn't tell us whether a specific person will present symptoms or not. If we want a binary response, we can apply a threshold on the probability. For example, if the probability is above 0.50, i.e. when the WAIS score is below 8, the person is most likely to present symptoms."
   ]
  },
  {
   "attachments": {},
   "cell_type": "markdown",
   "metadata": {},
   "source": [
    "## Cross entropy and other metrics\n",
    "\n",
    "When we train a model, we want to measure in some way its performance. There are a couple of metrics that can be used for logistic regression.\n",
    "\n",
    "- **Cross entropy loss**: The cross entropy loss is defined as the negative log-likelihood of Bernoulli distributed random variates divided by the number of samples\n",
    "$$Loss(\\mathbf{y}, \\mathbf{p}) = -\\frac{1}{n}\\sum_{i=1}^{n} [y_i\\log p_i + (1 - y_i)\\log(1 - p_i)]$$\n",
    "\n",
    "The logistic regression minimizes the cross entropy loss. Therefore, we will expect a small value in a good model.\n",
    "\n",
    "- **Accuracy**: The accuracy score is defined as the proportion of labels predicted correctly\n",
    "$$accuracy(\\mathbf{y}, \\hat{\\mathbf{y}}) = \\frac{1}{n}\\sum_{i=1}^{n}1(y_i = \\hat{y}_i)$$\n",
    "In the best case, the predicted labels match exactly the observed labels, so the accuracy is 1. In the worst case, no predicted label match the observed label, so the accuracy is 0."
   ]
  },
  {
   "cell_type": "code",
   "execution_count": 7,
   "metadata": {},
   "outputs": [
    {
     "name": "stdout",
     "output_type": "stream",
     "text": [
      "Cross entropy loss: 0.47238314610779025\n",
      "Accuracy: 0.7777777777777778\n"
     ]
    }
   ],
   "source": [
    "loss = -np.mean(df_wais.senile * np.log(df_wais.fitted_prob) + \n",
    "                (1 - df_wais.senile) * np.log(1 - df_wais.fitted_prob))\n",
    "print(\"Cross entropy loss:\", loss)\n",
    "\n",
    "df_wais[\"fitted_senile\"] = np.where(df_wais.fitted_prob > 0.5, 1, 0)\n",
    "accuracy = np.mean(df_wais.senile == df_wais.fitted_senile)\n",
    "print(\"Accuracy:\", accuracy)"
   ]
  },
  {
   "attachments": {},
   "cell_type": "markdown",
   "metadata": {},
   "source": [
    "For our previous example, we have a cross entropy loss of 0.47 and an accuracy of 0.77. This means that 77% of the labels are predicted correctly."
   ]
  },
  {
   "attachments": {},
   "cell_type": "markdown",
   "metadata": {},
   "source": [
    "### Confusion matrix\n",
    "\n",
    "Let\n",
    "- *TP* be the number of \"1\" labels correctly predicted as \"1\" (True Positive),\n",
    "- *TN* be the number of \"0\" labels correctly predicted as \"0\" (True Negative),\n",
    "- *FP* be the number of \"0\" labels incorrectly predicted as \"1\" (False Positive), and\n",
    "- *FN* be the number of \"1\" labels incorrectly predicted as \"0\" (False Negative).\n",
    "\n",
    "A **confusion matrix** is a table that allows to visualize the performance of a classifier. It contains the previous information as follows:\n",
    "\n",
    "| True label \\ Predicted label | **1**               | **0**               |\n",
    "|------------------------------|---------------------|---------------------|\n",
    "| **1**                        | True Positive (TP)  | False Negative (FN) |\n",
    "| **0**                        | False Positive (FP) | True Negative (TN)  |\n",
    "\n",
    "The confussion matrix is often accompanied with the following metrics:\n",
    "\n",
    "- **Precision**: The precision score is defined as the number of true positives divided by the number of labels predicted as positve\n",
    "$$precision = \\frac{TP}{TP + FP}$$\n",
    "The precision is intuitively the ability of the classifier not to label as positive a sample that is negative.\n",
    "\n",
    "- **Recall**: The recall score is defined as the number of true positives divided by the number of positive labels\n",
    "$$recall = \\frac{TP}{TP + FN}$$\n",
    "The recall is intuitively the ability of the classifier to find all the positive samples.\n",
    "\n",
    "- **F1-Score**: The F1 score is defined as the harmonic mean of the precision and recall\n",
    "$$F1 = \\frac{2 \\times precision \\times recall}{precision + recall}$$\n",
    "In the best case, both precision and recall scores are 1, so the F1-score is also 1. In the worst case, either precision or recall scores are 0, so the F1-score is also 0."
   ]
  },
  {
   "cell_type": "code",
   "execution_count": 8,
   "metadata": {},
   "outputs": [
    {
     "name": "stdout",
     "output_type": "stream",
     "text": [
      "Confussion matrix\n",
      "[[ 5  9]\n",
      " [ 3 37]]\n",
      "Precision: 0.625\n",
      "Recall: 0.35714285714285715\n",
      "F1: 0.45454545454545453\n"
     ]
    }
   ],
   "source": [
    "TP = np.sum((df_wais.senile == 1) & (df_wais.fitted_senile == 1))\n",
    "TN = np.sum((df_wais.senile == 0) & (df_wais.fitted_senile == 0))\n",
    "FP = np.sum((df_wais.senile == 0) & (df_wais.fitted_senile == 1))\n",
    "FN = np.sum((df_wais.senile == 1) & (df_wais.fitted_senile == 0))\n",
    "\n",
    "precision = TP/(TP + FP)\n",
    "recall = TP/(TP + FN)\n",
    "F1 = 2*precision*recall/(precision + recall)\n",
    "\n",
    "print(\"Confussion matrix\")\n",
    "print(np.array([[TP, FN], [FP, TN]]))\n",
    "print(\"Precision:\", precision)\n",
    "print(\"Recall:\", recall)\n",
    "print(\"F1:\", F1)"
   ]
  },
  {
   "attachments": {},
   "cell_type": "markdown",
   "metadata": {},
   "source": [
    "For our previous example, we can tell by looking at the confusion matrix that out of 14 people who presented symptoms of senility, only 5 of them were predicted to present symptoms based on their WAIS score. Similarly, out of 40 people who didn't present symptoms of senility, 37 of them were predicted to not present symptoms based on their WAIS score.\n",
    "\n",
    "On the other hand, we have a precision score of 0.62 and a recall score of 0.35. This means that only 62% of the people predicted to present symptoms actually presented symptoms. Similarly, only 35% of the people who presented symptoms were predicted to present symptoms."
   ]
  },
  {
   "attachments": {},
   "cell_type": "markdown",
   "metadata": {},
   "source": [
    "## Multiple features"
   ]
  },
  {
   "attachments": {},
   "cell_type": "markdown",
   "metadata": {},
   "source": [
    "### Iris dataset\n",
    "\n",
    "The following table contains 2 classes of 50 instances each, where each class refers to a type of iris plant. The following variables were recorded for each sample:\n",
    "- *sepal_length* The sepal length in cm.\n",
    "- *sepal_width* The sepal width in cm.\n",
    "- *petal_length* The petal length in cm.\n",
    "- *petal_width* The petal width in cm.\n",
    "- *species* Type of iris plant, 1 for *Iris-versicolor* and 0 for *Iris-virginica*.\n",
    "\n",
    "Can iris plants be classified as *Iris-versicolor* or *Iris-virginica* based on the other four variables?"
   ]
  },
  {
   "cell_type": "code",
   "execution_count": 9,
   "metadata": {},
   "outputs": [
    {
     "data": {
      "text/html": [
       "<div>\n",
       "<style scoped>\n",
       "    .dataframe tbody tr th:only-of-type {\n",
       "        vertical-align: middle;\n",
       "    }\n",
       "\n",
       "    .dataframe tbody tr th {\n",
       "        vertical-align: top;\n",
       "    }\n",
       "\n",
       "    .dataframe thead th {\n",
       "        text-align: right;\n",
       "    }\n",
       "</style>\n",
       "<table border=\"1\" class=\"dataframe\">\n",
       "  <thead>\n",
       "    <tr style=\"text-align: right;\">\n",
       "      <th></th>\n",
       "      <th>sepal_length</th>\n",
       "      <th>sepal_width</th>\n",
       "      <th>petal_length</th>\n",
       "      <th>petal_width</th>\n",
       "      <th>species</th>\n",
       "    </tr>\n",
       "  </thead>\n",
       "  <tbody>\n",
       "    <tr>\n",
       "      <th>0</th>\n",
       "      <td>7.0</td>\n",
       "      <td>3.2</td>\n",
       "      <td>4.7</td>\n",
       "      <td>1.4</td>\n",
       "      <td>1</td>\n",
       "    </tr>\n",
       "    <tr>\n",
       "      <th>1</th>\n",
       "      <td>6.4</td>\n",
       "      <td>3.2</td>\n",
       "      <td>4.5</td>\n",
       "      <td>1.5</td>\n",
       "      <td>1</td>\n",
       "    </tr>\n",
       "    <tr>\n",
       "      <th>2</th>\n",
       "      <td>6.9</td>\n",
       "      <td>3.1</td>\n",
       "      <td>4.9</td>\n",
       "      <td>1.5</td>\n",
       "      <td>1</td>\n",
       "    </tr>\n",
       "    <tr>\n",
       "      <th>3</th>\n",
       "      <td>5.5</td>\n",
       "      <td>2.3</td>\n",
       "      <td>4.0</td>\n",
       "      <td>1.3</td>\n",
       "      <td>1</td>\n",
       "    </tr>\n",
       "    <tr>\n",
       "      <th>4</th>\n",
       "      <td>6.5</td>\n",
       "      <td>2.8</td>\n",
       "      <td>4.6</td>\n",
       "      <td>1.5</td>\n",
       "      <td>1</td>\n",
       "    </tr>\n",
       "  </tbody>\n",
       "</table>\n",
       "</div>"
      ],
      "text/plain": [
       "   sepal_length  sepal_width  petal_length  petal_width  species\n",
       "0           7.0          3.2           4.7          1.4        1\n",
       "1           6.4          3.2           4.5          1.5        1\n",
       "2           6.9          3.1           4.9          1.5        1\n",
       "3           5.5          2.3           4.0          1.3        1\n",
       "4           6.5          2.8           4.6          1.5        1"
      ]
     },
     "execution_count": 9,
     "metadata": {},
     "output_type": "execute_result"
    }
   ],
   "source": [
    "df_iris = pd.read_csv(\"data/iris.csv\")\n",
    "df_iris.head()"
   ]
  },
  {
   "cell_type": "code",
   "execution_count": 10,
   "metadata": {},
   "outputs": [
    {
     "name": "stdout",
     "output_type": "stream",
     "text": [
      "Method converged in 10 iterations\n",
      "Estimator:\n",
      "[ 42.63780365   2.46522019   6.680887    -9.42938513 -18.28613684]\n"
     ]
    }
   ],
   "source": [
    "n, _ = df_iris.shape\n",
    "X = np.column_stack((np.ones(n), df_iris.sepal_length, df_iris.sepal_width,\n",
    "                     df_iris.petal_length, df_iris.petal_width))\n",
    "y = df_iris.species\n",
    "\n",
    "beta_mle = [0, 0, 0, 0, 0]\n",
    "max_iter = 100\n",
    "tol = 1e-4\n",
    "for iter in range(max_iter):\n",
    "    mu = 1/(1 + np.exp(-X @ beta_mle))\n",
    "    W = np.diag(mu*(1 - mu))\n",
    "    beta_incr = solve(X.T @ W @ X, X.T @ (y - mu))\n",
    "    if norm(beta_incr) < tol:\n",
    "        break\n",
    "    beta_mle = beta_mle + beta_incr\n",
    "\n",
    "print(\"Method converged in\", iter, \"iterations\")\n",
    "print(\"Estimator:\")\n",
    "print(beta_mle)"
   ]
  },
  {
   "attachments": {},
   "cell_type": "markdown",
   "metadata": {},
   "source": [
    "The maximum likelihood estimator for $\\beta_0$, $\\beta_1$, $\\beta_2$, $\\beta_3$ and $\\beta_4$ are 42.63, 2.46, 6.68, -9.42 and -18.28, respectively. This means that the log odds start at 42.63 units; increases 2.46 units for each cm the sepal length increases; increases 6.68 units for each cm the sepal width increases; decreases 9.42 units for each cm the petal length increases; and decreases 18.28 units for each cm the petal width increases."
   ]
  },
  {
   "cell_type": "code",
   "execution_count": 11,
   "metadata": {},
   "outputs": [
    {
     "name": "stdout",
     "output_type": "stream",
     "text": [
      "Cross entropy loss: 0.05949273395679421\n",
      "Accuracy: 0.98\n"
     ]
    }
   ],
   "source": [
    "df_iris[\"log_odds\"] = beta_mle[0] \\\n",
    "    + beta_mle[1]*df_iris.sepal_length + beta_mle[2]*df_iris.sepal_width \\\n",
    "    + beta_mle[3]*df_iris.petal_length + beta_mle[4]*df_iris.petal_width\n",
    "df_iris[\"fitted_prob\"] = 1/(1 + np.exp(-df_iris.log_odds))\n",
    "\n",
    "loss = -np.mean(df_iris.species * np.log(df_iris.fitted_prob) + \n",
    "                (1 - df_iris.species) * np.log(1 - df_iris.fitted_prob))\n",
    "print(\"Cross entropy loss:\", loss)\n",
    "\n",
    "df_iris[\"fitted_species\"] = np.where(df_iris.fitted_prob > 0.5, 1, 0)\n",
    "accuracy = np.mean(df_iris.species == df_iris.fitted_species)\n",
    "print(\"Accuracy:\", accuracy)"
   ]
  },
  {
   "attachments": {},
   "cell_type": "markdown",
   "metadata": {},
   "source": [
    "We have a cross entropy loss of 0.05 and an accuracy of 0.98. This means that 98% of the labels are predicted correctly."
   ]
  },
  {
   "cell_type": "code",
   "execution_count": 12,
   "metadata": {},
   "outputs": [
    {
     "name": "stdout",
     "output_type": "stream",
     "text": [
      "Confussion matrix\n",
      "[[49  1]\n",
      " [ 1 49]]\n",
      "Precision: 0.98\n",
      "Recall: 0.98\n",
      "F1: 0.98\n"
     ]
    }
   ],
   "source": [
    "TP = np.sum((df_iris.species == 1) & (df_iris.fitted_species == 1))\n",
    "TN = np.sum((df_iris.species == 0) & (df_iris.fitted_species == 0))\n",
    "FP = np.sum((df_iris.species == 0) & (df_iris.fitted_species == 1))\n",
    "FN = np.sum((df_iris.species == 1) & (df_iris.fitted_species == 0))\n",
    "\n",
    "precision = TP/(TP + FP)\n",
    "recall = TP/(TP + FN)\n",
    "F1 = 2*precision*recall/(precision + recall)\n",
    "\n",
    "print(\"Confussion matrix\")\n",
    "print(np.array([[TP, FN], [FP, TN]]))\n",
    "print(\"Precision:\", precision)\n",
    "print(\"Recall:\", recall)\n",
    "print(\"F1:\", F1)"
   ]
  },
  {
   "attachments": {},
   "cell_type": "markdown",
   "metadata": {},
   "source": [
    "We can tell by looking at the confusion matrix that out of 50 *Iris-versicolor* samples, 49 of them were correctly predicted as *Iris-versicolor*. Similarly, out of 50 *Iris-virginica* samples, 49 of them were correctly predicted as *Iris-virginica*.\n",
    "\n",
    "On the other hand, we have a precision score of 0.98 and a recall score of 0.98. This means that 98% of the samples predicted as *Iris-versicolor* were actually *Iris-versicolor* . Similarly, 98% of the *Iris-versicolor* samples were predicted as *Iris-versicolor* ."
   ]
  },
  {
   "attachments": {},
   "cell_type": "markdown",
   "metadata": {},
   "source": [
    "## Maximum likelihood estimator\n",
    "\n",
    "Let $(\\mathbf{x}_i, y_i)$, $i = 1, 2, \\ldots, n$ be observations of the independent and dependent variables. Recall that $y_i$ follows a Bernoulli distribution with probability of success $p_i = 1/(1 + e^{-t})$, $t = \\mathbf{x}_i^{\\top}\\mathbf{\\beta}$. The likelihood function of the dependent variables, which is defined as the joint density function as a function of the parameters, is\n",
    "\\begin{align*}\n",
    "L(\\mathbf{\\beta} | \\mathbf{X}, \\mathbf{y}) = \\prod_{i=1}^{n} p_i^{y_i}(1 - p_i)^{1 - y_i}\n",
    "\\end{align*}\n",
    "\n",
    "The log likelihood function is therefore\n",
    "\\begin{align*}\n",
    "l(\\mathbf{\\beta} | \\mathbf{X}, \\mathbf{y}) &= \\log L(\\mathbf{\\beta} | \\mathbf{X}, \\mathbf{y}) \\\\\n",
    "&= \\sum_{i=1}^{n} [y_i\\log p_i + (1 - y_i)\\log(1 - p_i)]\n",
    "\\end{align*}\n",
    "\n",
    "By the chain rule, the derivative of the log likelihood with respect to $\\beta_j$ is\n",
    "\\begin{align*}\n",
    "\\frac{\\partial}{\\partial\\beta_j}l(\\mathbf{\\beta} | \\mathbf{X}, \\mathbf{y}) &= \\sum_{i=1}^{n} \\left(\\frac{y_i}{p_i} - \\frac{1 - y_i}{1 - p_i}\\right)\\frac{dp_i}{dt}\\frac{\\partial t}{\\partial \\beta_j} \\\\\n",
    "&= \\sum_{i=1}^{n} \\frac{y_i - p_i}{p_i(1 - p_i)}\\frac{dp_i}{dt}\\frac{\\partial t}{\\partial \\beta_j}\n",
    "\\end{align*}\n",
    "\n",
    "where\n",
    "\\begin{align*}\n",
    "\\frac{dp_i}{dt} &= \\frac{d}{dt}\\left(\\frac{1}{1 + e^{-t}}\\right) = \\frac{e^{-t}}{(1 + e^{-t})^2} = p_i(1 - p_i) \\\\\n",
    "\\frac{\\partial t}{\\partial \\beta_j} &= \\frac{\\partial}{\\partial \\beta_j}\\mathbf{x}_i^{\\top}\\mathbf{\\beta} = x_{ij}\n",
    "\\end{align*}\n",
    "\n",
    "Thus, the derivative of the log likelihood with respect to $\\beta_j$ is\n",
    "\\begin{align*}\n",
    "\\frac{\\partial}{\\partial\\beta_j}l(\\mathbf{\\beta} | \\mathbf{X}, \\mathbf{y}) &= \\sum_{i=1}^{n} x_{ij}(y_i - p_i)\n",
    "\\end{align*}\n",
    "\n",
    "The gradient of the log likelihood is hence\n",
    "$$\\nabla l(\\mathbf{\\beta} | \\mathbf{X}, \\mathbf{y}) = \\mathbf{X}^{\\top}(\\mathbf{y} - \\mathbf{\\mu})$$\n",
    "\n",
    "On the other hand, by the chain rule the second derivative of the log likelihood with respect to $\\beta_j$ and $\\beta_k$ is\n",
    "\\begin{align*}\n",
    "\\frac{\\partial^2}{\\partial\\beta_k \\partial\\beta_j}l(\\mathbf{\\beta} | \\mathbf{X}, \\mathbf{y}) &= -\\sum_{i=1}^{n} x_{ij}\\frac{dp_i}{dt}\\frac{\\partial t}{\\partial \\beta_k} \\\\\n",
    "&= -\\sum_{i=1}^{n} x_{ij}p_i(1 - p_i)x_{ik}\n",
    "\\end{align*}\n",
    "\n",
    "The Hessian matrix of the log likelihood is hence\n",
    "$$H_l (\\mathbf{\\beta} | \\mathbf{X}, \\mathbf{y}) = -\\mathbf{X}^{\\top}\\mathbf{WX}$$\n",
    "\n",
    "The equation $\\nabla l(\\beta | \\mathbf{X}, \\mathbf{y}) = \\mathbf{0}$ doesn't have a closed solution, so an iterative method has to be used. By applying the Newton's method on the log likelihood we get the following iterative rule\n",
    "\\begin{align*}\n",
    "\\mathbf{\\beta}^{(t + 1)} &= \\mathbf{\\beta}^{(t)} - H_l (\\mathbf{\\beta} | \\mathbf{X}, \\mathbf{y})^{-1} \\nabla l(\\mathbf{\\beta} | \\mathbf{X}, \\mathbf{y}) \\\\\n",
    "&= \\mathbf{\\beta}^{(t)} + (\\mathbf{X}^{\\top}\\mathbf{WX})^{-1} \\mathbf{X}^{\\top}(\\mathbf{y} - \\mathbf{\\mu}) \\\\\n",
    "&= \\mathbf{\\beta}^{(t)} + \\mathbf{\\gamma}\n",
    "\\end{align*}\n",
    "where $\\mathbf{\\gamma}$ is the solution of the linear equation $\\mathbf{X}^{\\top}\\mathbf{WX\\gamma} = \\mathbf{X}^{\\top}(\\mathbf{y} - \\mathbf{\\mu})$."
   ]
  },
  {
   "attachments": {},
   "cell_type": "markdown",
   "metadata": {},
   "source": [
    "## References\n",
    "\n",
    "- Annette J. Dobson and Adrian G. Barnett, *An Introduction to Generalized Linear Models*, Chapter 7, Third Edition."
   ]
  }
 ],
 "metadata": {
  "kernelspec": {
   "display_name": "Python 3",
   "language": "python",
   "name": "python3"
  },
  "language_info": {
   "codemirror_mode": {
    "name": "ipython",
    "version": 3
   },
   "file_extension": ".py",
   "mimetype": "text/x-python",
   "name": "python",
   "nbconvert_exporter": "python",
   "pygments_lexer": "ipython3",
   "version": "3.9.2"
  },
  "orig_nbformat": 4
 },
 "nbformat": 4,
 "nbformat_minor": 2
}
